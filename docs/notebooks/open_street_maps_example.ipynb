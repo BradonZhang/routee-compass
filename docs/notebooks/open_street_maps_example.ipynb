{
 "cells": [
  {
   "cell_type": "markdown",
   "id": "75b8a7cf-1dd0-4469-9b75-0f3d0824bf5c",
   "metadata": {},
   "source": [
    "# OpenStreetMap example\n",
    "\n",
    "In this example, we download a road network from OSM using the OSMNx package, and then process the result, resulting in a RouteE Compass network dataset.\n",
    "\n",
    "### requirements\n",
    "\n",
    "To download an open street maps dataset, you'll need a couple of extra dependencies: [osmnx](https://osmnx.readthedocs.io/en/stable/) and [tomllib](https://docs.python.org/3/library/tomllib.html) (Python>3.11) or [toml](https://pypi.org/project/toml/) (Python<3.11). \n",
    "\n",
    "You can install these doing: \n",
    "\n",
    "```bash\n",
    "pip install nrel.routee.compass[osm]\n",
    "```"
   ]
  },
  {
   "cell_type": "code",
   "execution_count": 1,
   "id": "debe13e9-b483-496f-8e79-d99e93484fcf",
   "metadata": {},
   "outputs": [],
   "source": [
    "import osmnx as ox\n",
    "from nrel.routee.compass.io import generate_compass_dataset\n",
    "from nrel.routee.compass import CompassApp\n",
    "from pathlib import Path\n",
    "import os"
   ]
  },
  {
   "cell_type": "markdown",
   "id": "1d3dcecf-3e0b-48ab-bc88-47faecf465a6",
   "metadata": {},
   "source": [
    "Here we set the absolute path to output directory where you want the dataset collected:"
   ]
  },
  {
   "cell_type": "code",
   "execution_count": 2,
   "id": "0b365291-b2b1-4a9b-bbb5-1a94686ddac3",
   "metadata": {},
   "outputs": [],
   "source": [
    "output_directory = Path(\"golden_co\")              "
   ]
  },
  {
   "cell_type": "markdown",
   "id": "67bc2034-cd93-4214-88c0-3767290d679a",
   "metadata": {},
   "source": [
    "In this example will load in the road network that covers Golden, Colorado, as a small example but this workflow will work with any osmnx graph.\n",
    "\n",
    "Osmnx provides many graph download operations, any are acceptable."
   ]
  },
  {
   "cell_type": "code",
   "execution_count": 3,
   "id": "4e0726db-5a19-48cb-964f-7030ba14f0b3",
   "metadata": {},
   "outputs": [],
   "source": [
    "g = ox.graph_from_place(\"Golden, Colorado, USA\")  "
   ]
  },
  {
   "cell_type": "markdown",
   "id": "052a41ad-daba-4b78-943d-5f24a089bf88",
   "metadata": {},
   "source": [
    "Now, we call the `generate_compass_dataset` function which will convert the osmnx graph into files that are compatible with routee-compass.\n",
    "\n",
    "The network speeds arguments can also be provided here, see documentation on `generate_compass_dataset` or `osmnx.add_edge_speeds` for details."
   ]
  },
  {
   "cell_type": "code",
   "execution_count": 4,
   "id": "74711b6b-2081-4712-92e2-0b7726c44021",
   "metadata": {},
   "outputs": [],
   "source": [
    "generate_compass_dataset(g, output_directory)      "
   ]
  },
  {
   "cell_type": "markdown",
   "id": "872f761e-8c71-469b-a407-dbbc0d066135",
   "metadata": {},
   "source": [
    "In order for the path arguments to work in the example TOML file, we change this Python environment's working directory to the dataset directory"
   ]
  },
  {
   "cell_type": "code",
   "execution_count": 5,
   "id": "6bc91714-93a6-4932-8c6d-a301a7f4abee",
   "metadata": {},
   "outputs": [],
   "source": [
    "os.chdir(output_directory)                         "
   ]
  },
  {
   "cell_type": "markdown",
   "id": "a54714f9-a4e5-48eb-84f9-4219a790956d",
   "metadata": {},
   "source": [
    "If you take a look in the directory where the compass files have been written, you'll notice some `.toml` files like: `osm_default_energy.toml`. \n",
    "These are configurations for the compass application. Here's what it might look like:\n",
    "\n",
    "```toml\n",
    "parallelism = 2\n",
    "\n",
    "[graph]\n",
    "edge_list_csv = \"edges-compass.csv.gz\"\n",
    "vertex_list_csv = \"vertices-compass.csv.gz\"\n",
    "verbose = true\n",
    "\n",
    "[traversal]\n",
    "type = \"speed_grade_energy_model\"\n",
    "model_type = \"smartcore\"\n",
    "speed_table_path = \"edges-posted-speed-enumerated.txt.gz\"\n",
    "energy_model_path = \"2016_TOYOTA_Camry_4cyl_2WD.bin\"\n",
    "ideal_energy_rate = 0.02857142857\n",
    "speed_table_speed_unit = \"kilometers_per_hour\"\n",
    "energy_model_speed_unit = \"miles_per_hour\"\n",
    "energy_model_grade_unit = \"decimal\"\n",
    "energy_model_energy_rate_unit = \"gallons_gasoline_per_mile\"\n",
    "output_time_unit = \"minutes\"\n",
    "output_distance_unit = \"miles\"\n",
    "\n",
    "[plugin]\n",
    "[[plugin.input_plugins]]\n",
    "type = \"vertex_rtree\"\n",
    "vertices_file = \"vertices-compass.csv.gz\"\n",
    "\n",
    "[[plugin.output_plugins]]\n",
    "type = \"summary\"\n",
    "\n",
    "[[plugin.output_plugins]]\n",
    "type = \"geometry\"\n",
    "route_geometry = true\n",
    "tree_geometry = true\n",
    "edge_file = \"edges-geometries-enumerated.txt.gz\"\n",
    "\n",
    "[[plugin.output_plugins]]\n",
    "type = \"uuid\"\n",
    "uuid_file = \"vertices-uuid-enumerated.txt.gz\"\n",
    "```\n",
    "\n",
    "This defines the parameters for the routing engine.\n",
    "See the documentation section of the config for more information."
   ]
  },
  {
   "cell_type": "markdown",
   "id": "ccf1e65a-d6af-4fe5-a60e-4333c7bbb910",
   "metadata": {},
   "source": [
    "Now we can load the application from one of our config files. \n",
    "We'll pick `osm_default_energy.toml` which will use a Toyota Camry energy model for finding the least energy route."
   ]
  },
  {
   "cell_type": "code",
   "execution_count": 6,
   "id": "edad6c15-c641-4010-b097-7d07aa86c1e7",
   "metadata": {},
   "outputs": [
    {
     "name": "stdout",
     "output_type": "stream",
     "text": [
      "\n"
     ]
    },
    {
     "name": "stderr",
     "output_type": "stream",
     "text": [
      "uuid file: 100%|██████████| 8435/8435 [00:00<00:00, 6489784.00it/s]it/s]"
     ]
    },
    {
     "name": "stdout",
     "output_type": "stream",
     "text": [
      "\n",
      "\n",
      "\n"
     ]
    }
   ],
   "source": [
    "app = CompassApp.from_config_file(\"osm_default_energy.toml\")  "
   ]
  },
  {
   "cell_type": "markdown",
   "id": "4bfbfbf8-e721-4754-a165-0beb7b46b81b",
   "metadata": {},
   "source": [
    "Now we have an application that we can run queries against. "
   ]
  },
  {
   "cell_type": "code",
   "execution_count": 10,
   "id": "f01086d0-231f-4013-bc24-97f9c56670bd",
   "metadata": {},
   "outputs": [],
   "source": [
    "query = {\n",
    "    \"origin_name\": \"Louis' Cafe\",\n",
    "    \"destination_name\": \"Cannonball Creek Brewery\",\n",
    "    \"origin_x\": -105.2066927,\n",
    "    \"origin_y\": 39.7348318,\n",
    "    \"destination_x\": -105.2308575,\n",
    "    \"destination_y\": 39.7581677,\n",
    "}"
   ]
  },
  {
   "cell_type": "code",
   "execution_count": 11,
   "id": "c6e9361b-5ffd-4ec5-a09a-d51e46752ebf",
   "metadata": {},
   "outputs": [],
   "source": [
    "result = app.run(query)"
   ]
  },
  {
   "cell_type": "markdown",
   "id": "60534047-b102-40af-9212-cf574f6c4ac2",
   "metadata": {},
   "source": [
    "Taking a look at the results:"
   ]
  },
  {
   "cell_type": "code",
   "execution_count": 12,
   "id": "961c910c-63ec-4c79-9522-19f24f151215",
   "metadata": {},
   "outputs": [
    {
     "data": {
      "text/plain": [
       "{'distance': 3.5219894345658647,\n",
       " 'distance_unit': 'miles',\n",
       " 'energy': 0.1254572155432738,\n",
       " 'energy_unit': 'gallons_gasoline',\n",
       " 'time': 6.574806401633702,\n",
       " 'time_unit': 'minutes'}"
      ]
     },
     "execution_count": 12,
     "metadata": {},
     "output_type": "execute_result"
    }
   ],
   "source": [
    "result[\"traversal_summary\"]"
   ]
  },
  {
   "cell_type": "code",
   "execution_count": null,
   "id": "2d302e1b-2b2c-4a28-bfcc-e22747878f23",
   "metadata": {},
   "outputs": [],
   "source": []
  }
 ],
 "metadata": {
  "kernelspec": {
   "display_name": "routee-compass",
   "language": "python",
   "name": "routee-compass"
  },
  "language_info": {
   "codemirror_mode": {
    "name": "ipython",
    "version": 3
   },
   "file_extension": ".py",
   "mimetype": "text/x-python",
   "name": "python",
   "nbconvert_exporter": "python",
   "pygments_lexer": "ipython3",
   "version": "3.10.11"
  }
 },
 "nbformat": 4,
 "nbformat_minor": 5
}
