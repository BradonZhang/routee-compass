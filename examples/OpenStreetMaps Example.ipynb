{
 "cells": [
  {
   "cell_type": "markdown",
   "id": "75b8a7cf-1dd0-4469-9b75-0f3d0824bf5c",
   "metadata": {},
   "source": [
    "# OpenStreetMap import example\n",
    "2023-10-09 rjf\n",
    "\n",
    "In this example, we download a road network from OSM using the OSMNx package, and then process the result, resulting in a RouteE Compass network dataset.\n",
    "\n",
    "### requirements\n",
    "\n",
    "In order to run this notebook, you need a pip installation of RouteE Compass in a jupyter kernel, along with installation of [osmnx](https://osmnx.readthedocs.io/en/stable/) and [tomllib](https://docs.python.org/3/library/tomllib.html) (Python>3.11) or [toml](https://pypi.org/project/toml/) (Python<3.11). \n",
    "For details, see the README.md file at the base of this repository."
   ]
  },
  {
   "cell_type": "code",
   "execution_count": 1,
   "id": "debe13e9-b483-496f-8e79-d99e93484fcf",
   "metadata": {},
   "outputs": [],
   "source": [
    "import osmnx as ox\n",
    "from nrel.routee.compass.io import generate_compass_dataset\n",
    "from nrel.routee.compass import CompassApp\n",
    "from pathlib import Path\n",
    "import os"
   ]
  },
  {
   "cell_type": "code",
   "execution_count": 2,
   "id": "0b365291-b2b1-4a9b-bbb5-1a94686ddac3",
   "metadata": {},
   "outputs": [],
   "source": [
    "output_directory = Path(\"golden_co\")              # absolute path to output directory where you want the dataset collected"
   ]
  },
  {
   "cell_type": "code",
   "execution_count": 3,
   "id": "74711b6b-2081-4712-92e2-0b7726c44021",
   "metadata": {},
   "outputs": [],
   "source": [
    "g = ox.graph_from_place(\"Golden, Colorado, USA\")  # the graph you want to import, any OSMNx graph. this example will load in\n",
    "                                                  # the road network that covers Golden, Colorado, as a small example.\n",
    "                                                  # osmnx provides many graph download operations, any are acceptable.\n",
    "generate_compass_dataset(g, output_directory)     # network speeds arguments can also be provided here, see documentation\n",
    "                                                  # for `generate_compass_dataset` or `osmnx.add_edge_speeds` for details."
   ]
  },
  {
   "cell_type": "code",
   "execution_count": 4,
   "id": "edad6c15-c641-4010-b097-7d07aa86c1e7",
   "metadata": {},
   "outputs": [
    {
     "name": "stdout",
     "output_type": "stream",
     "text": [
      "\n",
      "\n",
      "\n",
      "\n"
     ]
    },
    {
     "name": "stderr",
     "output_type": "stream",
     "text": [
      "uuid file: 100%|██████████| 8435/8435 [00:00<00:00, 5562810.00it/s]it/s]"
     ]
    }
   ],
   "source": [
    "os.chdir(output_directory)                        # in order for the path arguments to work in the example TOML file, we change\n",
    "                                                  # this Python environment's working directory to the dataset directory\n",
    "app = CompassApp.from_config_file(output_directory / \"osm_default_energy.toml\")  # \"osm_default_speed.toml\" is also provided"
   ]
  },
  {
   "cell_type": "code",
   "execution_count": 5,
   "id": "c6e9361b-5ffd-4ec5-a09a-d51e46752ebf",
   "metadata": {},
   "outputs": [
    {
     "data": {
      "text/plain": [
       "{'distance': 3.5219894345658647,\n",
       " 'distance_unit': 'miles',\n",
       " 'energy': 0.1254572155432738,\n",
       " 'energy_unit': 'gallons_gasoline',\n",
       " 'time': 6.574806401633702,\n",
       " 'time_unit': 'minutes'}"
      ]
     },
     "execution_count": 5,
     "metadata": {},
     "output_type": "execute_result"
    }
   ],
   "source": [
    "result = app.run({\n",
    "    \"origin_name\": \"Louis' Cafe\",\n",
    "    \"destination_name\": \"Cannonball Creek Brewery\",\n",
    "    \"origin_x\": -105.2066927,\n",
    "    \"origin_y\": 39.7348318,\n",
    "    \"destination_x\": -105.2308575,\n",
    "    \"destination_y\": 39.7581677,\n",
    "})\n",
    "result[0]['traversal_summary']"
   ]
  },
  {
   "cell_type": "code",
   "execution_count": null,
   "id": "4ef357c6-5127-4313-89c9-2bf9ff2f43ba",
   "metadata": {},
   "outputs": [],
   "source": []
  }
 ],
 "metadata": {
  "kernelspec": {
   "display_name": "routee-rust",
   "language": "python",
   "name": "routee-rust"
  },
  "language_info": {
   "codemirror_mode": {
    "name": "ipython",
    "version": 3
   },
   "file_extension": ".py",
   "mimetype": "text/x-python",
   "name": "python",
   "nbconvert_exporter": "python",
   "pygments_lexer": "ipython3",
   "version": "3.9.15"
  }
 },
 "nbformat": 4,
 "nbformat_minor": 5
}
